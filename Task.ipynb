{
 "cells": [
  {
   "cell_type": "code",
   "execution_count": 1,
   "id": "a9e700ee",
   "metadata": {},
   "outputs": [],
   "source": [
    "import pandas as pd"
   ]
  },
  {
   "cell_type": "markdown",
   "id": "4768a19e",
   "metadata": {},
   "source": [
    "### Q1"
   ]
  },
  {
   "cell_type": "code",
   "execution_count": 5,
   "id": "525b4191",
   "metadata": {},
   "outputs": [
    {
     "name": "stdout",
     "output_type": "stream",
     "text": [
      "a    1\n",
      "x    4\n",
      "c    9\n",
      "2    6\n",
      "e    7\n",
      "dtype: int64\n"
     ]
    }
   ],
   "source": [
    "data1 = [1,4,9,6,7]\n",
    "index1 = ['a','x','c','2','e']\n",
    "series1 = pd.Series(data1, index=index1)\n",
    "print(series1)"
   ]
  },
  {
   "cell_type": "markdown",
   "id": "e05d7f1a",
   "metadata": {},
   "source": [
    "### Q2"
   ]
  },
  {
   "cell_type": "code",
   "execution_count": 6,
   "id": "2edb4510",
   "metadata": {},
   "outputs": [
    {
     "name": "stdout",
     "output_type": "stream",
     "text": [
      "Bilal     42\n",
      "Ayesha    38\n",
      "Hadia     39\n",
      "dtype: int64\n"
     ]
    }
   ],
   "source": [
    "data2 = {\"Bilal\":42, \"Ayesha\":38, \"Hadia\":39}\n",
    "series2 = pd.Series(data2)\n",
    "print(series2)"
   ]
  },
  {
   "cell_type": "markdown",
   "id": "e8f8d28c",
   "metadata": {},
   "source": [
    "### Q3"
   ]
  },
  {
   "cell_type": "code",
   "execution_count": 11,
   "id": "cf424ab2",
   "metadata": {},
   "outputs": [
    {
     "data": {
      "text/html": [
       "<div>\n",
       "<style scoped>\n",
       "    .dataframe tbody tr th:only-of-type {\n",
       "        vertical-align: middle;\n",
       "    }\n",
       "\n",
       "    .dataframe tbody tr th {\n",
       "        vertical-align: top;\n",
       "    }\n",
       "\n",
       "    .dataframe thead th {\n",
       "        text-align: right;\n",
       "    }\n",
       "</style>\n",
       "<table border=\"1\" class=\"dataframe\">\n",
       "  <thead>\n",
       "    <tr style=\"text-align: right;\">\n",
       "      <th></th>\n",
       "      <th>day</th>\n",
       "      <th>temperature</th>\n",
       "      <th>windspeed</th>\n",
       "      <th>event</th>\n",
       "    </tr>\n",
       "  </thead>\n",
       "  <tbody>\n",
       "    <tr>\n",
       "      <th>0</th>\n",
       "      <td>1/1/2017</td>\n",
       "      <td>32</td>\n",
       "      <td>6</td>\n",
       "      <td>Rain</td>\n",
       "    </tr>\n",
       "    <tr>\n",
       "      <th>1</th>\n",
       "      <td>1/2/2017</td>\n",
       "      <td>35</td>\n",
       "      <td>7</td>\n",
       "      <td>Sunny</td>\n",
       "    </tr>\n",
       "    <tr>\n",
       "      <th>2</th>\n",
       "      <td>1/3/2017</td>\n",
       "      <td>28</td>\n",
       "      <td>2</td>\n",
       "      <td>Snow</td>\n",
       "    </tr>\n",
       "    <tr>\n",
       "      <th>3</th>\n",
       "      <td>1/4/2017</td>\n",
       "      <td>24</td>\n",
       "      <td>7</td>\n",
       "      <td>Snow</td>\n",
       "    </tr>\n",
       "    <tr>\n",
       "      <th>4</th>\n",
       "      <td>1/5/2017</td>\n",
       "      <td>32</td>\n",
       "      <td>4</td>\n",
       "      <td>Rain</td>\n",
       "    </tr>\n",
       "    <tr>\n",
       "      <th>5</th>\n",
       "      <td>1/6/2017</td>\n",
       "      <td>31</td>\n",
       "      <td>2</td>\n",
       "      <td>Sunny</td>\n",
       "    </tr>\n",
       "  </tbody>\n",
       "</table>\n",
       "</div>"
      ],
      "text/plain": [
       "        day  temperature  windspeed  event\n",
       "0  1/1/2017           32          6   Rain\n",
       "1  1/2/2017           35          7  Sunny\n",
       "2  1/3/2017           28          2   Snow\n",
       "3  1/4/2017           24          7   Snow\n",
       "4  1/5/2017           32          4   Rain\n",
       "5  1/6/2017           31          2  Sunny"
      ]
     },
     "execution_count": 11,
     "metadata": {},
     "output_type": "execute_result"
    }
   ],
   "source": [
    "data3 = {\"day\":[\"1/1/2017\",\"1/2/2017\",\"1/3/2017\",\"1/4/2017\",\"1/5/2017\",\"1/6/2017\"],\n",
    "        \"temperature\":[32,35,28,24,32,31],\n",
    "        \"windspeed\":[6,7,2,7,4,2],\n",
    "        \"event\":[\"Rain\",\"Sunny\",\"Snow\",\"Snow\",\"Rain\",\"Sunny\"]}\n",
    "series3 = pd.DataFrame(data3)\n",
    "series3"
   ]
  },
  {
   "cell_type": "markdown",
   "id": "5fc5bd17",
   "metadata": {},
   "source": [
    "### Q4"
   ]
  },
  {
   "cell_type": "code",
   "execution_count": 12,
   "id": "0263584f",
   "metadata": {},
   "outputs": [
    {
     "data": {
      "text/html": [
       "<div>\n",
       "<style scoped>\n",
       "    .dataframe tbody tr th:only-of-type {\n",
       "        vertical-align: middle;\n",
       "    }\n",
       "\n",
       "    .dataframe tbody tr th {\n",
       "        vertical-align: top;\n",
       "    }\n",
       "\n",
       "    .dataframe thead th {\n",
       "        text-align: right;\n",
       "    }\n",
       "</style>\n",
       "<table border=\"1\" class=\"dataframe\">\n",
       "  <thead>\n",
       "    <tr style=\"text-align: right;\">\n",
       "      <th></th>\n",
       "      <th>day</th>\n",
       "      <th>temperature</th>\n",
       "      <th>windspeed</th>\n",
       "      <th>event</th>\n",
       "    </tr>\n",
       "  </thead>\n",
       "  <tbody>\n",
       "    <tr>\n",
       "      <th>a</th>\n",
       "      <td>1/1/2017</td>\n",
       "      <td>32</td>\n",
       "      <td>6</td>\n",
       "      <td>Rain</td>\n",
       "    </tr>\n",
       "    <tr>\n",
       "      <th>b</th>\n",
       "      <td>1/2/2017</td>\n",
       "      <td>35</td>\n",
       "      <td>7</td>\n",
       "      <td>Sunny</td>\n",
       "    </tr>\n",
       "    <tr>\n",
       "      <th>c</th>\n",
       "      <td>1/3/2017</td>\n",
       "      <td>28</td>\n",
       "      <td>2</td>\n",
       "      <td>Snow</td>\n",
       "    </tr>\n",
       "    <tr>\n",
       "      <th>d</th>\n",
       "      <td>1/4/2017</td>\n",
       "      <td>24</td>\n",
       "      <td>7</td>\n",
       "      <td>Snow</td>\n",
       "    </tr>\n",
       "    <tr>\n",
       "      <th>e</th>\n",
       "      <td>1/5/2017</td>\n",
       "      <td>32</td>\n",
       "      <td>4</td>\n",
       "      <td>Rain</td>\n",
       "    </tr>\n",
       "    <tr>\n",
       "      <th>f</th>\n",
       "      <td>1/6/2017</td>\n",
       "      <td>31</td>\n",
       "      <td>2</td>\n",
       "      <td>Sunny</td>\n",
       "    </tr>\n",
       "  </tbody>\n",
       "</table>\n",
       "</div>"
      ],
      "text/plain": [
       "        day  temperature  windspeed  event\n",
       "a  1/1/2017           32          6   Rain\n",
       "b  1/2/2017           35          7  Sunny\n",
       "c  1/3/2017           28          2   Snow\n",
       "d  1/4/2017           24          7   Snow\n",
       "e  1/5/2017           32          4   Rain\n",
       "f  1/6/2017           31          2  Sunny"
      ]
     },
     "execution_count": 12,
     "metadata": {},
     "output_type": "execute_result"
    }
   ],
   "source": [
    "series3.index = ['a','b','c','d','e','f']\n",
    "series3"
   ]
  },
  {
   "cell_type": "markdown",
   "id": "a962870a",
   "metadata": {},
   "source": [
    "### Q5"
   ]
  },
  {
   "cell_type": "code",
   "execution_count": 15,
   "id": "b0ae89bc",
   "metadata": {},
   "outputs": [
    {
     "name": "stdout",
     "output_type": "stream",
     "text": [
      "Mean is 30.333333333333332\n",
      "Maximum is 35\n",
      "Minimum is 24\n"
     ]
    }
   ],
   "source": [
    "mean = series3[\"temperature\"].mean()\n",
    "print(\"Mean is\", mean)\n",
    "maximum = max(series3[\"temperature\"])\n",
    "print(\"Maximum is\", maximum)\n",
    "minimum = min(series3[\"temperature\"])\n",
    "print(\"Minimum is\", minimum)"
   ]
  },
  {
   "cell_type": "markdown",
   "id": "05d928f4",
   "metadata": {},
   "source": [
    "### Q6"
   ]
  },
  {
   "cell_type": "code",
   "execution_count": 24,
   "id": "61be10bc",
   "metadata": {},
   "outputs": [],
   "source": [
    "df = pd.read_csv(\"people.csv\", usecols = [\"First Name\", \"Sex\", \"Email\", \"Phone\", \"Job Title\"])\n",
    "df.set_index(keys=[\"Sex\", \"Job Title\"], inplace = True)\n",
    "df.drop(df.index[1:6], inplace = True)\n",
    "df.to_csv(\"NewPeople.csv\", index = False)"
   ]
  },
  {
   "cell_type": "markdown",
   "id": "08be0d0d",
   "metadata": {},
   "source": [
    "### Q7"
   ]
  },
  {
   "cell_type": "code",
   "execution_count": 25,
   "id": "2273676d",
   "metadata": {},
   "outputs": [],
   "source": [
    "file = \"SampleWork.xlsx\"\n",
    "df = pd.read_excel(file, skiprows=1, header=1)\n",
    "first_sheet = df.iloc[:, :]\n",
    "first_and_last_columns = first_sheet.iloc[:, [0, -1]]\n",
    "first_and_last_columns.to_excel(\"export_file.xlsx\", index=False)"
   ]
  },
  {
   "cell_type": "markdown",
   "id": "19aa7304",
   "metadata": {},
   "source": [
    "### Q8"
   ]
  },
  {
   "cell_type": "code",
   "execution_count": 46,
   "id": "57f4bc71",
   "metadata": {},
   "outputs": [
    {
     "name": "stdout",
     "output_type": "stream",
     "text": [
      "    Name Qualification\n",
      "0  Sonia           Msc\n",
      "1  Bilal            MA\n",
      "2  Hifza           MCA\n",
      "3  Kabir           Phd\n",
      "4  jazim           bsc\n",
      "----------------------------\n",
      "Age                   22\n",
      "Address          Sialkot\n",
      "Qualification        MCA\n",
      "Height               5.1\n",
      "Name: Hifza, dtype: object\n",
      "----------------------------\n",
      "Age                   22\n",
      "Address          Sialkot\n",
      "Qualification        MCA\n",
      "Height               5.1\n",
      "Name: Hifza, dtype: object\n",
      "----------------------------\n",
      "       Age   Address Qualification  Height\n",
      "Name                                      \n",
      "Sonia   27    Lahore           Msc     5.1\n",
      "Hifza   22   Sialkot           MCA     5.1\n",
      "Kabir   32  Peshawar           Phd     5.2\n",
      "jazim   23       lhr           bsc     5.1\n"
     ]
    }
   ],
   "source": [
    "AICP = {\"Name\":[\"Sonia\",\"Bilal\",\"Hifza\",\"Kabir\",\"jazim\"],\n",
    "          \"Age\":[27,24,22,32,23],\n",
    "          \"Address\":[\"Lahore\",\"Karachi\",\"Sialkot\",\"Peshawar\",\"lhr\"],\n",
    "          \"Qualification\":[\"Msc\",\"MA\",\"MCA\",\"Phd\",\"bsc\"]}\n",
    "AICP_DF = pd.DataFrame(AICP)\n",
    "df1 = AICP_DF[[\"Name\", \"Qualification\"]]\n",
    "print(df1)\n",
    "print(\"----------------------------\")\n",
    "AICP_DF[\"Height\"] = [5.1, 6.2, 5.1, 5.2, 5.1]\n",
    "AICP_DF.set_index(keys = \"Name\", inplace = True)\n",
    "print(AICP_DF.loc[\"Hifza\"])\n",
    "print(\"----------------------------\")\n",
    "print(AICP_DF.iloc[2])\n",
    "print(\"----------------------------\")\n",
    "AICP_DF.drop(\"Bilal\",axis = 0, inplace = True)\n",
    "print(AICP_DF)"
   ]
  },
  {
   "cell_type": "code",
   "execution_count": null,
   "id": "933c3294",
   "metadata": {},
   "outputs": [],
   "source": []
  }
 ],
 "metadata": {
  "kernelspec": {
   "display_name": "Python 3 (ipykernel)",
   "language": "python",
   "name": "python3"
  },
  "language_info": {
   "codemirror_mode": {
    "name": "ipython",
    "version": 3
   },
   "file_extension": ".py",
   "mimetype": "text/x-python",
   "name": "python",
   "nbconvert_exporter": "python",
   "pygments_lexer": "ipython3",
   "version": "3.11.4"
  }
 },
 "nbformat": 4,
 "nbformat_minor": 5
}
